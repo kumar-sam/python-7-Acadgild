{
 "cells": [
  {
   "cell_type": "code",
   "execution_count": 8,
   "metadata": {},
   "outputs": [
    {
     "name": "stdout",
     "output_type": "stream",
     "text": [
      "[15, 14, 17, 20, 29, 86, 148, 218, 252, 280, 349]\n"
     ]
    }
   ],
   "source": [
    "# Assignment 7.1\n",
    "\"\"\"\n",
    "A simple program which implements a function to find moving average in an array over a window:\n",
    "\"\"\"\n",
    "seq = [3, 5, 7, 2, 8, 10, 11, 65, 72, 81, 99, 100, 150] #original list of numbers\n",
    "mov_avg_seq =[] #empty list which will store moving average sequence\n",
    "n=len(seq) #length of original sequence\n",
    "k=3 #winodw size initialized to 3\n",
    "def mov_avg(): #function which calc moving avg sequence\n",
    "    i=0;\n",
    "    while(i<n-k+1): #while loop will be executed n-k+1 times\n",
    "        j=0 #j will keep focus on window size\n",
    "        value=0\n",
    "        while(j<k): #while loop will calculate sum for each window\n",
    "            value=value+seq[i+j]\n",
    "            j=j+1\n",
    "        mov_avg_seq.append(value) #sum is appended to the mov_avg_seq list\n",
    "        i=i+1\n",
    "        \n",
    "mov_avg()  #calling func mov_avg()\n",
    "print(mov_avg_seq) #printing the mov_avg_seq list\n"
   ]
  }
 ],
 "metadata": {
  "kernelspec": {
   "display_name": "Python 3",
   "language": "python",
   "name": "python3"
  },
  "language_info": {
   "codemirror_mode": {
    "name": "ipython",
    "version": 3
   },
   "file_extension": ".py",
   "mimetype": "text/x-python",
   "name": "python",
   "nbconvert_exporter": "python",
   "pygments_lexer": "ipython3",
   "version": "3.6.6"
  }
 },
 "nbformat": 4,
 "nbformat_minor": 2
}
